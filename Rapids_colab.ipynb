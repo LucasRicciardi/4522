{
  "nbformat": 4,
  "nbformat_minor": 0,
  "metadata": {
    "colab": {
      "name": "Copy of rapids-colab.ipynb",
      "version": "0.3.2",
      "provenance": [],
      "collapsed_sections": []
    },
    "kernelspec": {
      "name": "python3",
      "display_name": "Python 3"
    },
    "accelerator": "GPU"
  },
  "cells": [
    {
      "cell_type": "markdown",
      "metadata": {
        "id": "scfLT2i0MLyD",
        "colab_type": "text"
      },
      "source": [
        "# Verificação do ambiente #\n",
        "\n",
        "Clique no dropdown _Runtime_ no topo da página, em seguida, em _Change Runtime Type_ e confirme se o tipo de instância é _GPU_.\n",
        "\n",
        "Verifique a saída de `! Nvidia-smi` para ter certeza de que você recebeu um Tesla T4."
      ]
    },
    {
      "cell_type": "code",
      "metadata": {
        "id": "B0C8IV5TQnjN",
        "colab_type": "code",
        "outputId": "65f6f72c-e4c5-4cf5-dcd2-12eac9f02753",
        "colab": {
          "base_uri": "https://localhost:8080/",
          "height": 306
        }
      },
      "source": [
        "!nvidia-smi"
      ],
      "execution_count": 1,
      "outputs": [
        {
          "output_type": "stream",
          "text": [
            "Fri May 10 23:33:54 2019       \n",
            "+-----------------------------------------------------------------------------+\n",
            "| NVIDIA-SMI 418.56       Driver Version: 410.79       CUDA Version: 10.0     |\n",
            "|-------------------------------+----------------------+----------------------+\n",
            "| GPU  Name        Persistence-M| Bus-Id        Disp.A | Volatile Uncorr. ECC |\n",
            "| Fan  Temp  Perf  Pwr:Usage/Cap|         Memory-Usage | GPU-Util  Compute M. |\n",
            "|===============================+======================+======================|\n",
            "|   0  Tesla T4            Off  | 00000000:00:04.0 Off |                    0 |\n",
            "| N/A   48C    P8    16W /  70W |      0MiB / 15079MiB |      0%      Default |\n",
            "+-------------------------------+----------------------+----------------------+\n",
            "                                                                               \n",
            "+-----------------------------------------------------------------------------+\n",
            "| Processes:                                                       GPU Memory |\n",
            "|  GPU       PID   Type   Process name                             Usage      |\n",
            "|=============================================================================|\n",
            "|  No running processes found                                                 |\n",
            "+-----------------------------------------------------------------------------+\n"
          ],
          "name": "stdout"
        }
      ]
    },
    {
      "cell_type": "code",
      "metadata": {
        "id": "ik8Wv2K0uDfx",
        "colab_type": "code",
        "outputId": "d8d743f8-db49-4eac-86df-a63d3053b657",
        "colab": {
          "base_uri": "https://localhost:8080/",
          "height": 34
        }
      },
      "source": [
        "import pynvml\n",
        "\n",
        "pynvml.nvmlInit()\n",
        "handle = pynvml.nvmlDeviceGetHandleByIndex(0)\n",
        "device_name = pynvml.nvmlDeviceGetName(handle)\n",
        "\n",
        "if device_name != b'Tesla T4':\n",
        "  raise Exception(\"\"\"\n",
        "    Unfortunately this instance does not have a T4 GPU.\n",
        "    \n",
        "    Please make sure you've configured Colab to request a GPU instance type.\n",
        "    \n",
        "    Sometimes Colab allocates a Tesla K80 instead of a T4. Resetting the instance.\n",
        "\n",
        "    If you get a K80 GPU, try Runtime -> Reset all runtimes...\n",
        "  \"\"\")\n",
        "else:\n",
        "  print('Woo! You got the right kind of GPU!')"
      ],
      "execution_count": 2,
      "outputs": [
        {
          "output_type": "stream",
          "text": [
            "Woo! You got the right kind of GPU!\n"
          ],
          "name": "stdout"
        }
      ]
    },
    {
      "cell_type": "markdown",
      "metadata": {
        "id": "CtNdk7PSafKP",
        "colab_type": "text"
      },
      "source": [
        "#Configuração:\n",
        "\n",
        "1. Instale a versão mais recente do Miniconda compatível com a instalação do Python do Google Colab (3.6.7)\n",
        "2. Instale as bibliotecas RAPIDS\n",
        "3. Defina as variáveis de ambiente necessárias\n",
        "4. Copie arquivos RAPIDS .so no diretório de trabalho atual, uma solução alternativa para interações conda / colab"
      ]
    },
    {
      "cell_type": "code",
      "metadata": {
        "id": "m0jdXBRiDSzj",
        "colab_type": "code",
        "outputId": "14ec5472-3178-4f5f-a54e-bcb68461176d",
        "colab": {
          "base_uri": "https://localhost:8080/",
          "height": 2737
        }
      },
      "source": [
        "# intall miniconda\n",
        "!wget -c https://repo.continuum.io/miniconda/Miniconda3-4.5.4-Linux-x86_64.sh\n",
        "!chmod +x Miniconda3-4.5.4-Linux-x86_64.sh\n",
        "!bash ./Miniconda3-4.5.4-Linux-x86_64.sh -b -f -p /usr/local\n",
        "\n",
        "# install RAPIDS packages\n",
        "!conda install -q -y --prefix /usr/local -c conda-forge \\\n",
        "  -c rapidsai-nightly/label/cuda10.0 -c nvidia/label/cuda10.0 \\\n",
        "  cudf cuml\n",
        "\n",
        "# set environment vars\n",
        "import sys, os, shutil\n",
        "sys.path.append('/usr/local/lib/python3.6/site-packages/')\n",
        "os.environ['NUMBAPRO_NVVM'] = '/usr/local/cuda/nvvm/lib64/libnvvm.so'\n",
        "os.environ['NUMBAPRO_LIBDEVICE'] = '/usr/local/cuda/nvvm/libdevice/'\n",
        "\n",
        "# copy .so files to current working dir\n",
        "for fn in ['libcudf.so', 'librmm.so']:\n",
        "  shutil.copy('/usr/local/lib/'+fn, os.getcwd())"
      ],
      "execution_count": 3,
      "outputs": [
        {
          "output_type": "stream",
          "text": [
            "--2019-05-10 23:34:03--  https://repo.continuum.io/miniconda/Miniconda3-4.5.4-Linux-x86_64.sh\n",
            "Resolving repo.continuum.io (repo.continuum.io)... 104.18.201.79, 104.18.200.79, 2606:4700::6812:c94f, ...\n",
            "Connecting to repo.continuum.io (repo.continuum.io)|104.18.201.79|:443... connected.\n",
            "HTTP request sent, awaiting response... 200 OK\n",
            "Length: 58468498 (56M) [application/x-sh]\n",
            "Saving to: ‘Miniconda3-4.5.4-Linux-x86_64.sh’\n",
            "\n",
            "Miniconda3-4.5.4-Li 100%[===================>]  55.76M  51.9MB/s    in 1.1s    \n",
            "\n",
            "2019-05-10 23:34:04 (51.9 MB/s) - ‘Miniconda3-4.5.4-Linux-x86_64.sh’ saved [58468498/58468498]\n",
            "\n",
            "PREFIX=/usr/local\n",
            "installing: python-3.6.5-hc3d631a_2 ...\n",
            "Python 3.6.5 :: Anaconda, Inc.\n",
            "installing: ca-certificates-2018.03.07-0 ...\n",
            "installing: conda-env-2.6.0-h36134e3_1 ...\n",
            "installing: libgcc-ng-7.2.0-hdf63c60_3 ...\n",
            "installing: libstdcxx-ng-7.2.0-hdf63c60_3 ...\n",
            "installing: libffi-3.2.1-hd88cf55_4 ...\n",
            "installing: ncurses-6.1-hf484d3e_0 ...\n",
            "installing: openssl-1.0.2o-h20670df_0 ...\n",
            "installing: tk-8.6.7-hc745277_3 ...\n",
            "installing: xz-5.2.4-h14c3975_4 ...\n",
            "installing: yaml-0.1.7-had09818_2 ...\n",
            "installing: zlib-1.2.11-ha838bed_2 ...\n",
            "installing: libedit-3.1.20170329-h6b74fdf_2 ...\n",
            "installing: readline-7.0-ha6073c6_4 ...\n",
            "installing: sqlite-3.23.1-he433501_0 ...\n",
            "installing: asn1crypto-0.24.0-py36_0 ...\n",
            "installing: certifi-2018.4.16-py36_0 ...\n",
            "installing: chardet-3.0.4-py36h0f667ec_1 ...\n",
            "installing: idna-2.6-py36h82fb2a8_1 ...\n",
            "installing: pycosat-0.6.3-py36h0a5515d_0 ...\n",
            "installing: pycparser-2.18-py36hf9f622e_1 ...\n",
            "installing: pysocks-1.6.8-py36_0 ...\n",
            "installing: ruamel_yaml-0.15.37-py36h14c3975_2 ...\n",
            "installing: six-1.11.0-py36h372c433_1 ...\n",
            "installing: cffi-1.11.5-py36h9745a5d_0 ...\n",
            "installing: setuptools-39.2.0-py36_0 ...\n",
            "installing: cryptography-2.2.2-py36h14c3975_0 ...\n",
            "installing: wheel-0.31.1-py36_0 ...\n",
            "installing: pip-10.0.1-py36_0 ...\n",
            "installing: pyopenssl-18.0.0-py36_0 ...\n",
            "installing: urllib3-1.22-py36hbe7ace6_0 ...\n",
            "installing: requests-2.18.4-py36he2e5f8d_1 ...\n",
            "installing: conda-4.5.4-py36_0 ...\n",
            "installation finished.\n",
            "WARNING:\n",
            "    You currently have a PYTHONPATH environment variable set. This may cause\n",
            "    unexpected behavior when running the Python interpreter in Miniconda3.\n",
            "    For best results, please verify that your PYTHONPATH only points to\n",
            "    directories of packages that are compatible with the Python interpreter\n",
            "    in Miniconda3: /usr/local\n",
            "Solving environment: ...working... done\n",
            "\n",
            "## Package Plan ##\n",
            "\n",
            "  environment location: /usr/local\n",
            "\n",
            "  added / updated specs: \n",
            "    - cudf\n",
            "    - cuml\n",
            "\n",
            "\n",
            "The following packages will be downloaded:\n",
            "\n",
            "    package                    |            build\n",
            "    ---------------------------|-----------------\n",
            "    openssl-1.1.1b             |       h14c3975_1         4.0 MB  conda-forge\n",
            "    bzip2-1.0.6                |    h14c3975_1002         415 KB  conda-forge\n",
            "    libcuml-0.8.0a             |     cuda10.0_610        24.4 MB  rapidsai-nightly/label/cuda10.0\n",
            "    arrow-cpp-0.12.1           |   py36h0e61e49_0         6.9 MB  conda-forge\n",
            "    boost-cpp-1.68.0           |    h11c811c_1000        20.5 MB  conda-forge\n",
            "    libnvstrings-0.7.0.dev0    |     cuda10.0_132         9.3 MB  rapidsai-nightly/label/cuda10.0\n",
            "    parquet-cpp-1.5.1          |                4           3 KB  conda-forge\n",
            "    openblas-0.3.6             |       h6e990d7_1        15.8 MB  conda-forge\n",
            "    cuml-0.8.0a                |cuda10.0_py36_610         3.0 MB  rapidsai-nightly/label/cuda10.0\n",
            "    libcudf-0.7.0.dev0         |    cuda10.0_1568        21.0 MB  rapidsai-nightly/label/cuda10.0\n",
            "    ca-certificates-2019.3.9   |       hecc5488_0         146 KB  conda-forge\n",
            "    libprotobuf-3.6.1          |    hdbcaa40_1001         4.0 MB  conda-forge\n",
            "    tk-8.6.9                   |    h84994c4_1001         3.2 MB  conda-forge\n",
            "    rmm-0.7.0.dev0             |          py36_54          14 KB  rapidsai-nightly/label/cuda10.0\n",
            "    conda-4.6.14               |           py36_0         2.1 MB  conda-forge\n",
            "    pyarrow-0.12.1             |   py36hbbcf98d_0         2.2 MB  conda-forge\n",
            "    numpy-1.16.3               |   py36he5ce36f_0         4.3 MB  conda-forge\n",
            "    cudf-0.7.0.dev0            |        py36_1568         2.7 MB  rapidsai-nightly/label/cuda10.0\n",
            "    libgcc-ng-8.2.0            |       hdf63c60_1         7.6 MB\n",
            "    cython-0.29.7              |   py36he1b5a44_0         2.2 MB  conda-forge\n",
            "    libblas-3.8.0              |       8_openblas           6 KB  conda-forge\n",
            "    liblapack-3.8.0            |       8_openblas           6 KB  conda-forge\n",
            "    libstdcxx-ng-8.2.0         |       hdf63c60_1         2.9 MB\n",
            "    python-3.6.7               |    h381d211_1004        34.5 MB  conda-forge\n",
            "    thrift-cpp-0.12.0          |    h0a07b25_1002         2.4 MB  conda-forge\n",
            "    cryptography-2.6.1         |   py36h72c5cf5_0         606 KB  conda-forge\n",
            "    llvmlite-0.28.0            |   py36hdbcaa40_0        20.2 MB  conda-forge\n",
            "    pytz-2019.1                |             py_0         227 KB  conda-forge\n",
            "    pandas-0.24.2              |   py36hf484d3e_0        11.1 MB  conda-forge\n",
            "    nvstrings-0.7.0.dev0       |         py36_132          88 KB  rapidsai-nightly/label/cuda10.0\n",
            "    icu-58.2                   |    hf484d3e_1000        22.6 MB  conda-forge\n",
            "    libcumlmg-0.0.0.dev0       |     cuda10.0_373         955 KB  nvidia/label/cuda10.0\n",
            "    numba-0.43.1               |   py36hf2d7682_0         2.9 MB  conda-forge\n",
            "    python-dateutil-2.8.0      |             py_0         219 KB  conda-forge\n",
            "    libgfortran-ng-7.3.0       |       hdf63c60_0         1.3 MB\n",
            "    libcblas-3.8.0             |       8_openblas           6 KB  conda-forge\n",
            "    librmm-0.7.0.dev0          |      cuda10.0_54          39 KB  rapidsai-nightly/label/cuda10.0\n",
            "    sqlite-3.26.0              |    h67949de_1001         1.9 MB  conda-forge\n",
            "    cudatoolkit-10.0.130       |                0       380.0 MB\n",
            "    certifi-2019.3.9           |           py36_0         149 KB  conda-forge\n",
            "    ------------------------------------------------------------\n",
            "                                           Total:       615.7 MB\n",
            "\n",
            "The following NEW packages will be INSTALLED:\n",
            "\n",
            "    arrow-cpp:       0.12.1-py36h0e61e49_0    conda-forge                    \n",
            "    boost-cpp:       1.68.0-h11c811c_1000     conda-forge                    \n",
            "    bzip2:           1.0.6-h14c3975_1002      conda-forge                    \n",
            "    cudatoolkit:     10.0.130-0                                              \n",
            "    cudf:            0.7.0.dev0-py36_1568     rapidsai-nightly/label/cuda10.0\n",
            "    cuml:            0.8.0a-cuda10.0_py36_610 rapidsai-nightly/label/cuda10.0\n",
            "    cython:          0.29.7-py36he1b5a44_0    conda-forge                    \n",
            "    icu:             58.2-hf484d3e_1000       conda-forge                    \n",
            "    libblas:         3.8.0-8_openblas         conda-forge                    \n",
            "    libcblas:        3.8.0-8_openblas         conda-forge                    \n",
            "    libcudf:         0.7.0.dev0-cuda10.0_1568 rapidsai-nightly/label/cuda10.0\n",
            "    libcuml:         0.8.0a-cuda10.0_610      rapidsai-nightly/label/cuda10.0\n",
            "    libcumlmg:       0.0.0.dev0-cuda10.0_373  nvidia/label/cuda10.0          \n",
            "    libgfortran-ng:  7.3.0-hdf63c60_0                                        \n",
            "    liblapack:       3.8.0-8_openblas         conda-forge                    \n",
            "    libnvstrings:    0.7.0.dev0-cuda10.0_132  rapidsai-nightly/label/cuda10.0\n",
            "    libprotobuf:     3.6.1-hdbcaa40_1001      conda-forge                    \n",
            "    librmm:          0.7.0.dev0-cuda10.0_54   rapidsai-nightly/label/cuda10.0\n",
            "    llvmlite:        0.28.0-py36hdbcaa40_0    conda-forge                    \n",
            "    numba:           0.43.1-py36hf2d7682_0    conda-forge                    \n",
            "    numpy:           1.16.3-py36he5ce36f_0    conda-forge                    \n",
            "    nvstrings:       0.7.0.dev0-py36_132      rapidsai-nightly/label/cuda10.0\n",
            "    openblas:        0.3.6-h6e990d7_1         conda-forge                    \n",
            "    pandas:          0.24.2-py36hf484d3e_0    conda-forge                    \n",
            "    parquet-cpp:     1.5.1-4                  conda-forge                    \n",
            "    pyarrow:         0.12.1-py36hbbcf98d_0    conda-forge                    \n",
            "    python-dateutil: 2.8.0-py_0               conda-forge                    \n",
            "    pytz:            2019.1-py_0              conda-forge                    \n",
            "    rmm:             0.7.0.dev0-py36_54       rapidsai-nightly/label/cuda10.0\n",
            "    thrift-cpp:      0.12.0-h0a07b25_1002     conda-forge                    \n",
            "\n",
            "The following packages will be UPDATED:\n",
            "\n",
            "    ca-certificates: 2018.03.07-0                                             --> 2019.3.9-hecc5488_0  conda-forge\n",
            "    certifi:         2018.4.16-py36_0                                         --> 2019.3.9-py36_0      conda-forge\n",
            "    conda:           4.5.4-py36_0                                             --> 4.6.14-py36_0        conda-forge\n",
            "    cryptography:    2.2.2-py36h14c3975_0                                     --> 2.6.1-py36h72c5cf5_0 conda-forge\n",
            "    libgcc-ng:       7.2.0-hdf63c60_3                                         --> 8.2.0-hdf63c60_1                \n",
            "    libstdcxx-ng:    7.2.0-hdf63c60_3                                         --> 8.2.0-hdf63c60_1                \n",
            "    openssl:         1.0.2o-h20670df_0                                        --> 1.1.1b-h14c3975_1    conda-forge\n",
            "    python:          3.6.5-hc3d631a_2                                         --> 3.6.7-h381d211_1004  conda-forge\n",
            "    sqlite:          3.23.1-he433501_0                                        --> 3.26.0-h67949de_1001 conda-forge\n",
            "    tk:              8.6.7-hc745277_3                                         --> 8.6.9-h84994c4_1001  conda-forge\n",
            "\n",
            "Preparing transaction: ...working... done\n",
            "Verifying transaction: ...working... done\n",
            "Executing transaction: ...working... done\n"
          ],
          "name": "stdout"
        }
      ]
    },
    {
      "cell_type": "markdown",
      "metadata": {
        "id": "9oOCJ4NYMjY7",
        "colab_type": "text"
      },
      "source": [
        "# cuDF e cuML Exemplos #\n",
        "\n",
        "Agora você pode executar o código!\n",
        "\n",
        "O que se segue são exemplos básicos onde todo o processamento ocorre na GPU."
      ]
    },
    {
      "cell_type": "markdown",
      "metadata": {
        "id": "V38dg-oUJtEO",
        "colab_type": "text"
      },
      "source": [
        "#[cuDF](https://github.com/rapidsai/cudf)#\n",
        "\n",
        "Carregue um conjunto de dados em um DataFrame residente na memória da GPU e execute um cálculo básico.\n",
        "\n",
        "Tudo, desde a análise CSV até o cálculo da porcentagem da ponta e o cálculo de uma média agrupada, é feito na GPU.\n",
        "\n",
        "_Nota_: Você deve importar nvstrings e nvcategory antes do cudf, senão você obterá erros."
      ]
    },
    {
      "cell_type": "code",
      "metadata": {
        "id": "EwaJSKuswsNi",
        "colab_type": "code",
        "outputId": "690b67bf-8f54-457a-fed1-9394e2ea565d",
        "colab": {
          "base_uri": "https://localhost:8080/",
          "height": 153
        }
      },
      "source": [
        "import nvstrings, nvcategory, cudf\n",
        "import io, requests\n",
        "\n",
        "# download CSV file from GitHub\n",
        "url=\"https://github.com/plotly/datasets/raw/master/tips.csv\"\n",
        "content = requests.get(url).content.decode('utf-8')\n",
        "\n",
        "# read CSV from memory\n",
        "tips_df = cudf.read_csv(io.StringIO(content))\n",
        "tips_df['tip_percentage'] = tips_df['tip']/tips_df['total_bill']*100\n",
        "\n",
        "# display average tip by dining party size\n",
        "print(tips_df.groupby('size').tip_percentage.mean())"
      ],
      "execution_count": 4,
      "outputs": [
        {
          "output_type": "stream",
          "text": [
            "size\n",
            "1     21.72920154872781\n",
            "2     16.57191917348289\n",
            "3    15.215685473711831\n",
            "4    14.594900639351332\n",
            "5    14.149548965142023\n",
            "6    15.622920072028379\n",
            "Name: tip_percentage, dtype: float64\n"
          ],
          "name": "stdout"
        }
      ]
    },
    {
      "cell_type": "markdown",
      "metadata": {
        "id": "Ul3UZJdUJqlT",
        "colab_type": "text"
      },
      "source": [
        "#[cuML](https://github.com/rapidsai/cuml)#\n",
        "\n",
        "Este trecho carrega um\n",
        "\n",
        "Como acima, todos os cálculos são realizados na GPU."
      ]
    },
    {
      "cell_type": "code",
      "metadata": {
        "id": "dCE8WhO3HpL_",
        "colab_type": "code",
        "outputId": "a464b6ce-c6b3-42b8-998f-68fba1fad2af",
        "colab": {
          "base_uri": "https://localhost:8080/",
          "height": 85
        }
      },
      "source": [
        "import cuml\n",
        "\n",
        "# Create and populate a GPU DataFrame\n",
        "df_float = cudf.DataFrame()\n",
        "df_float['0'] = [1.0, 2.0, 5.0]\n",
        "df_float['1'] = [4.0, 2.0, 1.0]\n",
        "df_float['2'] = [4.0, 2.0, 1.0]\n",
        "\n",
        "# Setup and fit clusters\n",
        "dbscan_float = cuml.DBSCAN(eps=1.0, min_samples=1)\n",
        "dbscan_float.fit(df_float)\n",
        "\n",
        "print(dbscan_float.labels_)"
      ],
      "execution_count": 5,
      "outputs": [
        {
          "output_type": "stream",
          "text": [
            "0    0\n",
            "1    1\n",
            "2    2\n",
            "dtype: int32\n"
          ],
          "name": "stdout"
        }
      ]
    },
    {
      "cell_type": "markdown",
      "metadata": {
        "id": "Dlsyk9m9NN2K",
        "colab_type": "text"
      },
      "source": [
        "# Próximos passos #\n",
        "\n",
        "Para uma visão geral de como você pode acessar e trabalhar com seus próprios conjuntos de dados no Colab, confira [este guia] (https://towardsdatascience.com/3-ways-to-load-csv-files-into-colab-7c14fcbdcb92) .\n",
        "\n",
        "Para mais exemplos do RAPIDS, confira nossos repositórios de cadernos RAPIDS:\n",
        "1. https://github.com/rapidsai/notebooks\n",
        "2. https://github.com/rapidsai/notebooks-extended"
      ]
    }
  ]
}